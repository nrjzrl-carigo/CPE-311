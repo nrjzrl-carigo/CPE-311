{
 "cells": [
  {
   "cell_type": "code",
   "execution_count": 10,
   "id": "e0a55842-6b5b-4c2a-aa68-19d4ff80bfe6",
   "metadata": {},
   "outputs": [
    {
     "name": "stdin",
     "output_type": "stream",
     "text": [
      "Enter amount of cash:  7\n"
     ]
    },
    {
     "name": "stdout",
     "output_type": "stream",
     "text": [
      "(3, [5, 1, 1])\n"
     ]
    }
   ],
   "source": [
    "def few_coins_change(coins,cash):\n",
    "    coins.sort(reverse=True)\n",
    "    count = 0\n",
    "    result = []\n",
    "\n",
    "    for coin in coins:\n",
    "        while cash >= coin:\n",
    "            cash -= coin\n",
    "            count += 1\n",
    "            result.append(coin)\n",
    "    return count, result\n",
    "\n",
    "coins = [1, 5, 10, 20]\n",
    "cash = int(input('Enter amount of cash: '))\n",
    "\n",
    "print(few_coins_change(coins,cash))\n",
    "    "
   ]
  },
  {
   "cell_type": "code",
   "execution_count": null,
   "id": "c9aabf6c-be48-48e5-b91a-fac812a4eb38",
   "metadata": {},
   "outputs": [],
   "source": []
  }
 ],
 "metadata": {
  "kernelspec": {
   "display_name": "Python 3 (ipykernel)",
   "language": "python",
   "name": "python3"
  },
  "language_info": {
   "codemirror_mode": {
    "name": "ipython",
    "version": 3
   },
   "file_extension": ".py",
   "mimetype": "text/x-python",
   "name": "python",
   "nbconvert_exporter": "python",
   "pygments_lexer": "ipython3",
   "version": "3.12.4"
  }
 },
 "nbformat": 4,
 "nbformat_minor": 5
}
