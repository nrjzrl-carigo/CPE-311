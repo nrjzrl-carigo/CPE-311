{
  "cells": [
    {
      "cell_type": "markdown",
      "metadata": {
        "id": "view-in-github",
        "colab_type": "text"
      },
      "source": [
        "<a href=\"https://colab.research.google.com/github/nrjzrl-carigo/CPE-311/blob/main/Hands_on_Activity_2_1_Dynamic_Programming_1.ipynb\" target=\"_parent\"><img src=\"https://colab.research.google.com/assets/colab-badge.svg\" alt=\"Open In Colab\"/></a>"
      ]
    },
    {
      "cell_type": "markdown",
      "id": "f1c6ec95",
      "metadata": {
        "id": "f1c6ec95"
      },
      "source": [
        "# Hands-on Activity 2.1 : Dynamic Programming"
      ]
    },
    {
      "cell_type": "markdown",
      "id": "56dacba1",
      "metadata": {
        "id": "56dacba1"
      },
      "source": [
        "#### Objective(s):\n",
        "\n",
        "This activity aims to demonstrate how to use dynamic programming to solve problems."
      ]
    },
    {
      "cell_type": "markdown",
      "id": "e51f84e3",
      "metadata": {
        "id": "e51f84e3"
      },
      "source": [
        "#### Intended Learning Outcomes (ILOs):\n",
        "* Differentiate recursion method from dynamic programming to solve problems.\n",
        "* Demonstrate how to  solve real-world problems using dynamic programming\n"
      ]
    },
    {
      "cell_type": "markdown",
      "id": "39047b1a",
      "metadata": {
        "id": "39047b1a"
      },
      "source": [
        "#### Resources:\n",
        "* Jupyter Notebook\n"
      ]
    },
    {
      "cell_type": "markdown",
      "id": "cb5360c0",
      "metadata": {
        "id": "cb5360c0"
      },
      "source": [
        "#### Procedures:"
      ]
    },
    {
      "cell_type": "markdown",
      "id": "206a914c",
      "metadata": {
        "id": "206a914c"
      },
      "source": [
        "1. Create a code that demonstrate how to use recursion method to solve problem"
      ]
    },
    {
      "cell_type": "markdown",
      "id": "5744a876",
      "metadata": {
        "id": "5744a876"
      },
      "source": [
        "2. Create a program codes that demonstrate how to use dynamic programming to solve the same problem"
      ]
    },
    {
      "cell_type": "markdown",
      "id": "8e3f6572",
      "metadata": {
        "id": "8e3f6572"
      },
      "source": [
        "##### Question:\n",
        "Explain the difference of using the recursion from dynamic programming using the given sample codes to solve the same problem"
      ]
    },
    {
      "cell_type": "markdown",
      "id": "b5a71b53",
      "metadata": {
        "id": "b5a71b53"
      },
      "source": [
        "Recursion solves problems by breaking them into smaller subproblems but may recompute the same results multiple times, leading to inefficiency. Dynamic programming (DP) optimizes recursion by storing previously computed results (memoization) or building solutions iteratively (tabulation), reducing redundant computations and improving efficiency."
      ]
    },
    {
      "cell_type": "markdown",
      "id": "60074702",
      "metadata": {
        "id": "60074702"
      },
      "source": [
        "3. Create a sample program codes to simulate bottom-up dynamic programming"
      ]
    },
    {
      "cell_type": "markdown",
      "id": "e629eb89",
      "metadata": {
        "id": "e629eb89"
      },
      "source": [
        "4. Create a sample program codes that simulate tops-down dynamic programming"
      ]
    },
    {
      "cell_type": "markdown",
      "id": "c2e2434c",
      "metadata": {
        "id": "c2e2434c"
      },
      "source": [
        "#### Question:\n",
        " Explain the difference between bottom-up from top-down dynamic programming using the given sample codes"
      ]
    },
    {
      "cell_type": "markdown",
      "id": "ac97e063",
      "metadata": {
        "id": "ac97e063"
      },
      "source": [
        "Bottom-up (Tabulation): Solves subproblems iteratively and stores results in a table from the smallest subproblem to the main problem.\n",
        "Top-down (Memoization): Uses recursion but stores computed values to avoid recalculating the same subproblems.Bottom-up is usually more space-efficient and avoids recursion overhead, while top-down is more intuitive for problems naturally expressed recursively."
      ]
    },
    {
      "cell_type": "markdown",
      "id": "f7a5bfbd",
      "metadata": {
        "id": "f7a5bfbd"
      },
      "source": [
        "0/1 Knapsack Problem\n",
        "\n",
        "* Analyze three different techniques to solve knapsacks problem\n",
        "1. Recursion\n",
        "2. Dynamic Programming\n",
        "3. Memoization"
      ]
    },
    {
      "cell_type": "code",
      "source": [
        "#sample code for knapsack problem using recursion\n",
        "def rec_knapSack(w, wt, val, n):\n",
        "\n",
        "  #base case\n",
        "  #defined as nth item is empty;\n",
        "  #or the capacity w is 0\n",
        "  if n == 0 or w == 0:\n",
        "    return 0\n",
        "\n",
        "  #if weight of the nth item is more than\n",
        "  #the capacity W, then this item cannot be included\n",
        "  #as part of the optimal solution\n",
        "  if(wt[n-1] > w):\n",
        "    return rec_knapSack(w, wt, val, n-1)\n",
        "\n",
        "  #return the maximum of the two cases:\n",
        "  # (1) include the nth item\n",
        "  # (2) don't include the nth item\n",
        "  else:\n",
        "    return max(\n",
        "        val[n-1] + rec_knapSack(\n",
        "            w-wt[n-1], wt, val, n-1),\n",
        "            rec_knapSack(w, wt, val, n-1)\n",
        "    )"
      ],
      "metadata": {
        "id": "15SVHF85_1Ji"
      },
      "id": "15SVHF85_1Ji",
      "execution_count": 2,
      "outputs": []
    },
    {
      "cell_type": "code",
      "source": [
        "#To test:\n",
        "val = [60, 100, 120] #values for the items\n",
        "wt = [10, 20, 30] #weight of the items\n",
        "w = 50 #knapsack weight capacity\n",
        "n = len(val) #number of items\n",
        "\n",
        "rec_knapSack(w, wt, val, n)"
      ],
      "metadata": {
        "colab": {
          "base_uri": "https://localhost:8080/",
          "height": 176
        },
        "id": "b1D3YRJ7cMqU",
        "outputId": "16dcf345-815b-40f7-d4b0-6b957d1e7250"
      },
      "id": "b1D3YRJ7cMqU",
      "execution_count": 1,
      "outputs": [
        {
          "output_type": "error",
          "ename": "NameError",
          "evalue": "name 'rec_knapSack' is not defined",
          "traceback": [
            "\u001b[0;31m---------------------------------------------------------------------------\u001b[0m",
            "\u001b[0;31mNameError\u001b[0m                                 Traceback (most recent call last)",
            "\u001b[0;32m<ipython-input-1-a876c5ea3b2a>\u001b[0m in \u001b[0;36m<cell line: 0>\u001b[0;34m()\u001b[0m\n\u001b[1;32m      5\u001b[0m \u001b[0mn\u001b[0m \u001b[0;34m=\u001b[0m \u001b[0mlen\u001b[0m\u001b[0;34m(\u001b[0m\u001b[0mval\u001b[0m\u001b[0;34m)\u001b[0m \u001b[0;31m#number of items\u001b[0m\u001b[0;34m\u001b[0m\u001b[0;34m\u001b[0m\u001b[0m\n\u001b[1;32m      6\u001b[0m \u001b[0;34m\u001b[0m\u001b[0m\n\u001b[0;32m----> 7\u001b[0;31m \u001b[0mrec_knapSack\u001b[0m\u001b[0;34m(\u001b[0m\u001b[0mw\u001b[0m\u001b[0;34m,\u001b[0m \u001b[0mwt\u001b[0m\u001b[0;34m,\u001b[0m \u001b[0mval\u001b[0m\u001b[0;34m,\u001b[0m \u001b[0mn\u001b[0m\u001b[0;34m)\u001b[0m\u001b[0;34m\u001b[0m\u001b[0;34m\u001b[0m\u001b[0m\n\u001b[0m",
            "\u001b[0;31mNameError\u001b[0m: name 'rec_knapSack' is not defined"
          ]
        }
      ]
    },
    {
      "cell_type": "code",
      "source": [
        "#Dynamic Programming for the Knapsack Problem\n",
        "def DP_knapSack(w, wt, val, n):\n",
        "  #create the table\n",
        "  table = [[0 for x in range(w+1)] for x in range (n+1)]\n",
        "\n",
        "  #populate the table in a bottom-up approach\n",
        "  for i in range(n+1):\n",
        "    for w in range(w+1):\n",
        "      if i == 0 or w == 0:\n",
        "        table[i][w] = 0\n",
        "      elif wt[i-1] <= w:\n",
        "        table[i][w] = max(val[i-1] + table[i-1][w-wt[i-1]],\n",
        "                          table[i-1][w])\n",
        "  return table[n][w]"
      ],
      "metadata": {
        "id": "A8OU1sUJ_1ES"
      },
      "id": "A8OU1sUJ_1ES",
      "execution_count": null,
      "outputs": []
    },
    {
      "cell_type": "code",
      "source": [
        "#To test:\n",
        "val = [60, 100, 120]\n",
        "wt = [10, 20, 30]\n",
        "w = 50\n",
        "n = len(val)\n",
        "\n",
        "DP_knapSack(w, wt, val, n)"
      ],
      "metadata": {
        "colab": {
          "base_uri": "https://localhost:8080/"
        },
        "id": "GUNeEPHrd-N1",
        "outputId": "4829e602-248b-48f8-cbd3-e75c4d87d3b6"
      },
      "id": "GUNeEPHrd-N1",
      "execution_count": null,
      "outputs": [
        {
          "output_type": "execute_result",
          "data": {
            "text/plain": [
              "220"
            ]
          },
          "metadata": {},
          "execution_count": 29
        }
      ]
    },
    {
      "cell_type": "code",
      "source": [
        "#Sample for top-down DP approach (memoization)\n",
        "#initialize the list of items\n",
        "val = [60, 100, 120]\n",
        "wt = [10, 20, 30]\n",
        "w = 50\n",
        "n = len(val)\n",
        "\n",
        "#initialize the container for the values that have to be stored\n",
        "#values are initialized to -1\n",
        "calc =[[-1 for i in range(w+1)] for j in range(n+1)]\n",
        "\n",
        "\n",
        "def mem_knapSack(wt, val, w, n):\n",
        "  #base conditions\n",
        "  if n == 0 or w == 0:\n",
        "    return 0\n",
        "  if calc[n][w] != -1:\n",
        "    return calc[n][w]\n",
        "\n",
        "  #compute for the other cases\n",
        "  if wt[n-1] <= w:\n",
        "    calc[n][w] = max(val[n-1] + mem_knapSack(wt, val, w-wt[n-1], n-1),\n",
        "                     mem_knapSack(wt, val, w, n-1))\n",
        "    return calc[n][w]\n",
        "  elif wt[n-1] > w:\n",
        "    calc[n][w] = mem_knapSack(wt, val, w, n-1)\n",
        "    return calc[n][w]\n",
        "\n",
        "mem_knapSack(wt, val, w, n)"
      ],
      "metadata": {
        "id": "VgwTX-XT_0_h",
        "colab": {
          "base_uri": "https://localhost:8080/"
        },
        "outputId": "6f3c2cc6-01fc-433a-ae1e-cbb99976c028"
      },
      "id": "VgwTX-XT_0_h",
      "execution_count": null,
      "outputs": [
        {
          "output_type": "execute_result",
          "data": {
            "text/plain": [
              "220"
            ]
          },
          "metadata": {},
          "execution_count": 31
        }
      ]
    },
    {
      "cell_type": "markdown",
      "source": [
        "**Code Analysis**\n",
        "\n",
        "1. The recursive approach solves the problem by exploring all possibilities, but it has exponential time complexity due to redundant calculations.\n",
        "2. The dynamic programming approach optimizes this by using a bottom-up method, reducing the time complexity to O(n * w).\n",
        "3. The memoization approach, a top-down method, stores previously computed results in a table to avoid recomputation, also achieving O(n * w) complexity while maintaining a recursive structure."
      ],
      "metadata": {
        "id": "-UXSSblDcF8T"
      },
      "id": "-UXSSblDcF8T"
    },
    {
      "cell_type": "markdown",
      "source": [
        "## Seatwork 2.1"
      ],
      "metadata": {
        "id": "IGsdUGCUcTFd"
      },
      "id": "IGsdUGCUcTFd"
    },
    {
      "cell_type": "markdown",
      "id": "0462053d",
      "metadata": {
        "id": "0462053d"
      },
      "source": [
        "Task 1: Modify the three techniques to include additional criterion in the knapsack problems"
      ]
    },
    {
      "cell_type": "code",
      "execution_count": 14,
      "id": "ed2f6186",
      "metadata": {
        "id": "ed2f6186",
        "colab": {
          "base_uri": "https://localhost:8080/"
        },
        "outputId": "dd723562-45ab-4447-e9b9-3829d3705d2f"
      },
      "outputs": [
        {
          "output_type": "stream",
          "name": "stdout",
          "text": [
            "220\n",
            "150\n"
          ]
        }
      ],
      "source": [
        "\n",
        "#Recursion: Add a weight limit condition\n",
        "def rec_knapSack(w, wt, val, n):\n",
        "    if n == 0 or w == 0:\n",
        "        return 0\n",
        "    # If the weight of the current item exceeds the capacity, exclude it\n",
        "    if wt[n-1] > w:\n",
        "        return rec_knapSack(w, wt, val, n-1)\n",
        "    return max(val[n-1] + rec_knapSack(w-wt[n-1], wt, val, n-1),\n",
        "               rec_knapSack(w, wt, val, n-1))\n",
        "\n",
        "# Testing\n",
        "val = [60, 100, 120]\n",
        "wt = [10, 20, 30]\n",
        "w = 50\n",
        "n = len(val)\n",
        "item_limit = 2  # Example: Limit number of items\n",
        "\n",
        "print(rec_knapSack_limit(w, wt, val, n, item_limit))\n",
        "\n",
        "\n",
        "\n",
        "#Dynamic: Use a 1D array instead of 2D\n",
        "def DP_knapSack(w, wt, val, n):\n",
        "    dp = [0] * (w+1)\n",
        "    for i in range(n):\n",
        "        # Iterate backwards to avoid overwriting values in the same iteration\n",
        "        for j in range(w, wt[i]-1, -1):\n",
        "            dp[j] = max(dp[j], val[i] + dp[j - wt[i]])\n",
        "    return dp[w]\n",
        "\n",
        "# To test:\n",
        "DP_knapSack(w, wt, val, n)\n",
        "\n",
        "\n",
        "#Memoization\n",
        "def crop_selection_dp(budget, costs, profits, n):\n",
        "    dp = [[0 for _ in range(budget+1)] for _ in range(n+1)]\n",
        "\n",
        "    for i in range(n+1):\n",
        "        for j in range(budget+1):\n",
        "            if i == 0 or j == 0:\n",
        "                dp[i][j] = 0\n",
        "            elif costs[i-1] <= j:\n",
        "                dp[i][j] = max(profits[i-1] + dp[i-1][j-costs[i-1]], dp[i-1][j])\n",
        "            else:\n",
        "                dp[i][j] = dp[i-1][j]\n",
        "\n",
        "    return dp[n][budget]\n",
        "\n",
        "# Test\n",
        "print(crop_selection_dp(budget, costs, profits, n))\n"
      ]
    },
    {
      "cell_type": "markdown",
      "id": "f44e88aa",
      "metadata": {
        "id": "f44e88aa"
      },
      "source": [
        "Task 2: Create a sample program that find the nth number of Fibonacci Series using Dynamic Programming"
      ]
    },
    {
      "cell_type": "code",
      "execution_count": 10,
      "id": "745871be",
      "metadata": {
        "id": "745871be",
        "colab": {
          "base_uri": "https://localhost:8080/"
        },
        "outputId": "ec58cc1c-1a19-4aea-8f20-5177f4778866"
      },
      "outputs": [
        {
          "output_type": "stream",
          "name": "stdout",
          "text": [
            "55\n"
          ]
        }
      ],
      "source": [
        "def fibonacci_dp(n):\n",
        "    fib = [0] * (n+1)\n",
        "    fib[1] = 1\n",
        "\n",
        "    for i in range(2, n+1):\n",
        "        fib[i] = fib[i-1] + fib[i-2]\n",
        "\n",
        "    return fib[n]\n",
        "\n",
        "# Test\n",
        "n = 10\n",
        "print(fibonacci_dp(n))\n"
      ]
    },
    {
      "cell_type": "markdown",
      "id": "070ddd75",
      "metadata": {
        "id": "070ddd75"
      },
      "source": [
        "## Supplementary Problem (HOA 2.1 Submission):\n",
        "* Choose a real-life problem\n",
        "* Use recursion and dynamic programming to solve the problem"
      ]
    },
    {
      "cell_type": "markdown",
      "source": [
        "Problem: A farmer needs to maximize profit by selecting crops within a limited budget."
      ],
      "metadata": {
        "id": "YCiwc5vwK0ro"
      },
      "id": "YCiwc5vwK0ro"
    },
    {
      "cell_type": "code",
      "execution_count": 11,
      "id": "86eef507",
      "metadata": {
        "id": "86eef507",
        "colab": {
          "base_uri": "https://localhost:8080/"
        },
        "outputId": "b2cbb07d-b5a1-44c0-f74b-1f72f9deedfa"
      },
      "outputs": [
        {
          "output_type": "stream",
          "name": "stdout",
          "text": [
            "150\n"
          ]
        }
      ],
      "source": [
        "def crop_selection(budget, costs, profits, n):\n",
        "    if n == 0 or budget == 0:\n",
        "        return 0\n",
        "\n",
        "    if costs[n-1] > budget:\n",
        "        return crop_selection(budget, costs, profits, n-1)\n",
        "\n",
        "    return max(profits[n-1] + crop_selection(budget-costs[n-1], costs, profits, n-1),\n",
        "               crop_selection(budget, costs, profits, n-1))\n",
        "\n",
        "# Test\n",
        "costs = [5, 10, 15]\n",
        "profits = [50, 60, 100]\n",
        "budget = 20\n",
        "n = len(profits)\n",
        "\n",
        "print(crop_selection(budget, costs, profits, n))"
      ]
    },
    {
      "cell_type": "code",
      "execution_count": 12,
      "id": "73b071b6",
      "metadata": {
        "id": "73b071b6",
        "colab": {
          "base_uri": "https://localhost:8080/"
        },
        "outputId": "454e4749-16b3-48a8-ea36-36c23f5b4932"
      },
      "outputs": [
        {
          "output_type": "stream",
          "name": "stdout",
          "text": [
            "150\n"
          ]
        }
      ],
      "source": [
        "def crop_selection_dp(budget, costs, profits, n):\n",
        "    dp = [[0 for _ in range(budget+1)] for _ in range(n+1)]\n",
        "\n",
        "    for i in range(n+1):\n",
        "        for j in range(budget+1):\n",
        "            if i == 0 or j == 0:\n",
        "                dp[i][j] = 0\n",
        "            elif costs[i-1] <= j:\n",
        "                dp[i][j] = max(profits[i-1] + dp[i-1][j-costs[i-1]], dp[i-1][j])\n",
        "            else:\n",
        "                dp[i][j] = dp[i-1][j]\n",
        "\n",
        "    return dp[n][budget]\n",
        "\n",
        "# Test\n",
        "print(crop_selection_dp(budget, costs, profits, n))"
      ]
    },
    {
      "cell_type": "markdown",
      "id": "bb0ed6a9",
      "metadata": {
        "id": "bb0ed6a9"
      },
      "source": [
        "#### Conclusion"
      ]
    },
    {
      "cell_type": "markdown",
      "source": [
        "In this activity, I conclude that the choice of approach depends on efficiency and implementation constraints. Recursion is simple but inefficient for large inputs. Dynamic programming (both bottom-up and memoization) significantly improves efficiency. The bottom-up DP approach generally has better space efficiency, while memoization retains the recursive nature, making it easier to understand in some cases. Thus, for real-world applications, dynamic programming is preferable to plain recursion when solving the knapsack problem.\n"
      ],
      "metadata": {
        "id": "z80UyFjLNb-z"
      },
      "id": "z80UyFjLNb-z"
    }
  ],
  "metadata": {
    "kernelspec": {
      "display_name": "Python 3",
      "language": "python",
      "name": "python3"
    },
    "language_info": {
      "codemirror_mode": {
        "name": "ipython",
        "version": 3
      },
      "file_extension": ".py",
      "mimetype": "text/x-python",
      "name": "python",
      "nbconvert_exporter": "python",
      "pygments_lexer": "ipython3",
      "version": "3.7.10"
    },
    "colab": {
      "provenance": [],
      "include_colab_link": true
    }
  },
  "nbformat": 4,
  "nbformat_minor": 5
}