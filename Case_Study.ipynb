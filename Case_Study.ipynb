{
  "nbformat": 4,
  "nbformat_minor": 0,
  "metadata": {
    "colab": {
      "provenance": [],
      "include_colab_link": true
    },
    "kernelspec": {
      "name": "python3",
      "display_name": "Python 3"
    },
    "language_info": {
      "name": "python"
    }
  },
  "cells": [
    {
      "cell_type": "markdown",
      "metadata": {
        "id": "view-in-github",
        "colab_type": "text"
      },
      "source": [
        "<a href=\"https://colab.research.google.com/github/nrjzrl-carigo/CPE-311/blob/main/Case_Study.ipynb\" target=\"_parent\"><img src=\"https://colab.research.google.com/assets/colab-badge.svg\" alt=\"Open In Colab\"/></a>"
      ]
    },
    {
      "cell_type": "markdown",
      "source": [
        "# Real-life Problem 1\n"
      ],
      "metadata": {
        "id": "niF2jZKnWlL1"
      }
    },
    {
      "cell_type": "markdown",
      "source": [
        "Managing mobile data efficiently is a challenge, especially when different apps consume data at varying rates. The goal is to maximize screen time while staying within a limited data plan. Each app has a specific data consumption per hour, and the objective is to choose apps that provide the longest usage without exceeding the data limit."
      ],
      "metadata": {
        "id": "lXZDKiu8W5Jg"
      }
    },
    {
      "cell_type": "code",
      "source": [
        "class App:\n",
        "    def __init__(self, name, data_usage, screen_time, boost_factor=1.0):\n",
        "        self.name = name\n",
        "        self.data_usage = data_usage\n",
        "        self.screen_time = screen_time\n",
        "        self.boost_factor = boost_factor\n",
        "\n",
        "    def __str__(self):\n",
        "        boosted_time = self.getBoostedScreenTime()\n",
        "        return f\"{self.name} <{self.data_usage}MB/hr, {self.screen_time} hrs, Boosted: {boosted_time:.2f} hrs>\"\n",
        "\n",
        "    def getDataUsage(self):\n",
        "        return self.data_usage\n",
        "\n",
        "    def getScreenTime(self):\n",
        "        return self.screen_time\n",
        "\n",
        "    def getBoostedScreenTime(self):\n",
        "        return self.screen_time * self.boost_factor\n",
        "\n",
        "def buildAppList(name, data_usage, screen_time, boost_factors):\n",
        "    return [App(name[i], data_usage[i], screen_time[i], boost_factors[i]) for i in range(len(name))]\n",
        "\n",
        "def maxUsage(toConsider, available, cache=None):\n",
        "    if cache is None:\n",
        "        cache = {}\n",
        "\n",
        "    if not toConsider or available == 0:\n",
        "        return (0, ())\n",
        "\n",
        "    key = (len(toConsider), available)\n",
        "    if key in cache:\n",
        "        return cache[key]\n",
        "\n",
        "    first = toConsider[0]\n",
        "\n",
        "    if first.getDataUsage() > available:\n",
        "        result = maxUsage(toConsider[1:], available, cache)\n",
        "    else:\n",
        "        withTime, withApps = maxUsage(toConsider[1:], available - first.getDataUsage(), cache)\n",
        "        withTime += first.getBoostedScreenTime()\n",
        "\n",
        "        withoutTime, withoutApps = maxUsage(toConsider[1:], available, cache)\n",
        "\n",
        "        if withTime > withoutTime:\n",
        "            result = (withTime, withApps + (first,))\n",
        "        else:\n",
        "            result = (withoutTime, withoutApps)\n",
        "\n",
        "    cache[key] = result\n",
        "    return result\n",
        "\n",
        "def testMaxUsage(apps, max_data):\n",
        "    bestTime, bestSelection = maxUsage(apps, max_data)\n",
        "    print(\"=\" * 50)\n",
        "    print(f\" Best total screen time: {bestTime:.2f} hours\")\n",
        "    print(\" >>>>\", \" \" * 8, \"Selected Apps\", \" \" * 8, \"<<<<\")\n",
        "    for app in bestSelection:\n",
        "        print(f\" ◘ {app}\")\n",
        "    print(\"=\" * 50)\n",
        "\n",
        "app_names = ['YouTube 360p', 'YouTube 1080p', 'Facebook Scrolling',\n",
        "             'Facebook Videos', 'Instagram', 'TikTok', 'Twitter',\n",
        "             'Netflix 1080', 'Netflix 4K', 'Canvas LMS']\n",
        "\n",
        "data_usage = [300, 2000, 80, 160, 500, 900, 360, 1000, 7000, 5000]\n",
        "screen_time = [1, 0.5, 1, 0.5, 1, 1, 1, 1, 1, 1]\n",
        "\n",
        "boost_factors = []\n",
        "print(\"Enter boost factor for each app:\")\n",
        "for name in app_names:\n",
        "    boost = float(input(f\"{name}: \"))\n",
        "    boost_factors.append(boost)\n",
        "\n",
        "apps = buildAppList(app_names, data_usage, screen_time, boost_factors)\n",
        "\n",
        "testMaxUsage(apps, 2000)"
      ],
      "metadata": {
        "colab": {
          "base_uri": "https://localhost:8080/"
        },
        "id": "Ed3rHAxVF61G",
        "outputId": "0f8349ab-270d-44ff-dd99-2dbaed1f342f"
      },
      "execution_count": null,
      "outputs": [
        {
          "output_type": "stream",
          "name": "stdout",
          "text": [
            "Enter boost factor for each app:\n",
            "YouTube 360p: 1\n",
            "YouTube 1080p: 1\n",
            "Facebook Scrolling: 1\n",
            "Facebook Videos: 1\n",
            "Instagram: 1\n",
            "TikTok: 1\n",
            "Twitter: 1\n",
            "Netflix 1080: 1\n",
            "Netflix 4K: 1\n",
            "Canvas LMS: 1\n",
            "==================================================\n",
            " Best total screen time: 4.50 hours\n",
            " >>>>          Selected Apps          <<<<\n",
            " ◘ Twitter <360MB/hr, 1 hrs, Boosted: 1.00 hrs>\n",
            " ◘ TikTok <900MB/hr, 1 hrs, Boosted: 1.00 hrs>\n",
            " ◘ Instagram <500MB/hr, 1 hrs, Boosted: 1.00 hrs>\n",
            " ◘ Facebook Videos <160MB/hr, 0.5 hrs, Boosted: 0.50 hrs>\n",
            " ◘ Facebook Scrolling <80MB/hr, 1 hrs, Boosted: 1.00 hrs>\n",
            "==================================================\n"
          ]
        }
      ]
    }
  ]
}