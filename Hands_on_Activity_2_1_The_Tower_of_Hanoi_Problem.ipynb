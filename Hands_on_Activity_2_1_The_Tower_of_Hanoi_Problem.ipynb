{
  "nbformat": 4,
  "nbformat_minor": 0,
  "metadata": {
    "colab": {
      "provenance": [],
      "authorship_tag": "ABX9TyOOGtRXTmCgOlbDVWfiOYxI",
      "include_colab_link": true
    },
    "kernelspec": {
      "name": "python3",
      "display_name": "Python 3"
    },
    "language_info": {
      "name": "python"
    }
  },
  "cells": [
    {
      "cell_type": "markdown",
      "metadata": {
        "id": "view-in-github",
        "colab_type": "text"
      },
      "source": [
        "<a href=\"https://colab.research.google.com/github/nrjzrl-carigo/CPE-311/blob/main/Hands_on_Activity_2_1_The_Tower_of_Hanoi_Problem.ipynb\" target=\"_parent\"><img src=\"https://colab.research.google.com/assets/colab-badge.svg\" alt=\"Open In Colab\"/></a>"
      ]
    },
    {
      "cell_type": "code",
      "source": [
        "# Tower of Hanoi Problem\n",
        "# This program solves the Tower of Hanoi problem using recursion.\n",
        "# The goal is to move all disks from the source peg to the target peg following the rules:\n",
        "# 1. Only one disk can be moved at a time.\n",
        "# 2. A larger disk cannot be placed on a smaller disk.\n",
        "# 3. Disks can only be moved between the three pegs: Source, Auxiliary, and Target.\n",
        "#\n",
        "# Programming Paradigm Used:\n",
        "# - Recursion: The function calls itself to solve smaller subproblems until it reaches the base case.\n",
        "# - Divide and Conquer: The problem is divided into moving n-1 disks, moving the largest disk,\n",
        "# - and moving the n-1 disks again.\n",
        "\n",
        "\n",
        "def tower_of_hanoi(n, source, target, auxiliary):\n",
        "    # Base case: If there's only one disk, move it directly to the target peg\n",
        "    if n == 1:\n",
        "        print(f\"Move disk 1 from {source} to {target}\")\n",
        "        return\n",
        "\n",
        "    # Move n-1 disks from source to auxiliary peg, using target as temporary storage\n",
        "    tower_of_hanoi(n - 1, source, auxiliary, target)\n",
        "\n",
        "    # Move the nth (largest) disk from source to target peg\n",
        "    print(f\"Move disk {n} from {source} to {target}\")\n",
        "\n",
        "    # Move the n-1 disks from auxiliary peg to target peg, using source as temporary storage\n",
        "    tower_of_hanoi(n - 1, auxiliary, target, source)\n",
        "\n",
        "def main():\n",
        "    # Ask the user for the number of disks\n",
        "    n = int(input(\"Enter the number of disks: \"))\n",
        "\n",
        "    # Validate input (must be a positive integer)\n",
        "    if n <= 0:\n",
        "        print(\"Please enter a positive number of disks.\")\n",
        "        return\n",
        "\n",
        "    # Start the Tower of Hanoi solution\n",
        "    print(\"\\nSteps to solve the Tower of Hanoi:\")\n",
        "    tower_of_hanoi(n, 'A', 'C', 'B')\n",
        "\n",
        "# Entry point of the program\n",
        "if __name__ == \"__main__\":\n",
        "    main()\n"
      ],
      "metadata": {
        "colab": {
          "base_uri": "https://localhost:8080/"
        },
        "id": "On72I6cw12yQ",
        "outputId": "8095e516-4334-4382-93bb-e60e02a38d4d"
      },
      "execution_count": 2,
      "outputs": [
        {
          "output_type": "stream",
          "name": "stdout",
          "text": [
            "Enter the number of disks: 3\n",
            "\n",
            "Steps to solve the Tower of Hanoi:\n",
            "Move disk 1 from A to C\n",
            "Move disk 2 from A to B\n",
            "Move disk 1 from C to B\n",
            "Move disk 3 from A to C\n",
            "Move disk 1 from B to A\n",
            "Move disk 2 from B to C\n",
            "Move disk 1 from A to C\n"
          ]
        }
      ]
    }
  ]
}