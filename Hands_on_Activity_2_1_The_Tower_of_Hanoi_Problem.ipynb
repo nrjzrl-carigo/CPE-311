{
  "nbformat": 4,
  "nbformat_minor": 0,
  "metadata": {
    "colab": {
      "provenance": [],
      "authorship_tag": "ABX9TyPslIb/DY46dKuEFawWt3Ph",
      "include_colab_link": true
    },
    "kernelspec": {
      "name": "python3",
      "display_name": "Python 3"
    },
    "language_info": {
      "name": "python"
    }
  },
  "cells": [
    {
      "cell_type": "markdown",
      "metadata": {
        "id": "view-in-github",
        "colab_type": "text"
      },
      "source": [
        "<a href=\"https://colab.research.google.com/github/nrjzrl-carigo/CPE-311/blob/main/Hands_on_Activity_2_1_The_Tower_of_Hanoi_Problem.ipynb\" target=\"_parent\"><img src=\"https://colab.research.google.com/assets/colab-badge.svg\" alt=\"Open In Colab\"/></a>"
      ]
    },
    {
      "cell_type": "code",
      "execution_count": 1,
      "metadata": {
        "colab": {
          "base_uri": "https://localhost:8080/"
        },
        "id": "mt4rjCC9oDBr",
        "outputId": "12f5275d-4f68-4b4a-9954-50f46e8e44f7"
      },
      "outputs": [
        {
          "output_type": "stream",
          "name": "stdout",
          "text": [
            "Enter the number of disks: 2\n",
            "Steps to solve the Tower of Hanoi:\n",
            "Step 1: Move disk 1 from A to B\n",
            "Step 2: Move disk 2 from A to C\n",
            "Step 3: Move disk 1 from B to C\n"
          ]
        }
      ],
      "source": [
        "def tower_of_hanoi(n, source, target, auxiliary, moves):\n",
        "    if n == 1:\n",
        "        moves.append(f\"Move disk 1 from {source} to {target}\")\n",
        "        return\n",
        "    tower_of_hanoi(n - 1, source, auxiliary, target, moves)\n",
        "    moves.append(f\"Move disk {n} from {source} to {target}\")\n",
        "    tower_of_hanoi(n - 1, auxiliary, target, source, moves)\n",
        "\n",
        "def main():\n",
        "    try:\n",
        "        n = int(input(\"Enter the number of disks: \"))\n",
        "        if n <= 0:\n",
        "            print(\"Number of disks must be greater than 0.\")\n",
        "            return\n",
        "\n",
        "        moves = []\n",
        "        tower_of_hanoi(n, 'A', 'C', 'B', moves)\n",
        "\n",
        "        print(\"Steps to solve the Tower of Hanoi:\")\n",
        "        for i, move in enumerate(moves, start=1):\n",
        "            print(f\"Step {i}: {move}\")\n",
        "\n",
        "    except ValueError:\n",
        "        print(\"Please enter a valid integer for the number of disks.\")\n",
        "\n",
        "if __name__ == \"__main__\":\n",
        "    main()\n"
      ]
    },
    {
      "cell_type": "code",
      "source": [
        "def tower_of_hanoi(n, source, target, auxiliary):\n",
        "    if n == 1:\n",
        "        print(f\"Move disk 1 from {source} to {target}\")\n",
        "        return\n",
        "    tower_of_hanoi(n - 1, source, auxiliary, target)\n",
        "    print(f\"Move disk {n} from {source} to {target}\")\n",
        "    tower_of_hanoi(n - 1, auxiliary, target, source)\n",
        "\n",
        "def main():\n",
        "    n = int(input(\"Enter the number of disks: \"))\n",
        "    if n <= 0:\n",
        "        print(\"Please enter a positive number of disks.\")\n",
        "        return\n",
        "    tower_of_hanoi(n, 'A', 'C', 'B')\n",
        "\n",
        "if __name__ == \"__main__\":\n",
        "    main()\n"
      ],
      "metadata": {
        "colab": {
          "base_uri": "https://localhost:8080/"
        },
        "id": "On72I6cw12yQ",
        "outputId": "d568f1d3-27e1-415b-9637-e4405ae08cd1"
      },
      "execution_count": 2,
      "outputs": [
        {
          "output_type": "stream",
          "name": "stdout",
          "text": [
            "Enter the number of disks: 2\n",
            "Move disk 1 from A to B\n",
            "Move disk 2 from A to C\n",
            "Move disk 1 from B to C\n"
          ]
        }
      ]
    },
    {
      "cell_type": "code",
      "source": [
        "class TowerOfHanoi:\n",
        "    def __init__(self, num_disks):\n",
        "        self.num_disks = num_disks\n",
        "        self.source = list(range(num_disks, 0, -1))  # Disk order: largest at the bottom\n",
        "        self.target = []\n",
        "        self.auxiliary = []\n",
        "        self.moves = []\n",
        "\n",
        "    def move_disk(self, from_pole, to_pole):\n",
        "        \"\"\"Move a disk from one pole to another.\"\"\"\n",
        "        disk = from_pole.pop()\n",
        "        to_pole.append(disk)\n",
        "        self.moves.append(f\"Move disk {disk} from {from_pole} to {to_pole}\")\n",
        "\n",
        "    def solve(self, n, source, target, auxiliary):\n",
        "        \"\"\"Recursively solve the Tower of Hanoi puzzle.\"\"\"\n",
        "        if n == 1:\n",
        "            self.move_disk(source, target)\n",
        "            return\n",
        "        self.solve(n - 1, source, auxiliary, target)  # Move n-1 disks to auxiliary\n",
        "        self.move_disk(source, target)  # Move the nth disk to target\n",
        "        self.solve(n - 1, auxiliary, target, source)  # Move the n-1 disks to target\n",
        "\n",
        "    def print_moves(self):\n",
        "        \"\"\"Print the sequence of moves.\"\"\"\n",
        "        for move in self.moves:\n",
        "            print(move)\n",
        "\n",
        "\n",
        "def main():\n",
        "    try:\n",
        "        num_disks = int(input(\"Enter the number of disks: \"))\n",
        "        if num_disks <= 0:\n",
        "            print(\"Please enter a positive number of disks.\")\n",
        "            return\n",
        "\n",
        "        hanoi = TowerOfHanoi(num_disks)\n",
        "        hanoi.solve(num_disks, hanoi.source, hanoi.target, hanoi.auxiliary)\n",
        "        hanoi.print_moves()\n",
        "\n",
        "    except ValueError:\n",
        "        print(\"Please enter a valid integer for the number of disks.\")\n",
        "\n",
        "\n",
        "if __name__ == \"__main__\":\n",
        "    main()"
      ],
      "metadata": {
        "colab": {
          "base_uri": "https://localhost:8080/",
          "height": 321
        },
        "id": "rpZfjbYX5Z6w",
        "outputId": "433e89ae-770f-4a22-beb9-90b34fc2cbef"
      },
      "execution_count": 3,
      "outputs": [
        {
          "output_type": "error",
          "ename": "KeyboardInterrupt",
          "evalue": "Interrupted by user",
          "traceback": [
            "\u001b[0;31m---------------------------------------------------------------------------\u001b[0m",
            "\u001b[0;31mKeyboardInterrupt\u001b[0m                         Traceback (most recent call last)",
            "\u001b[0;32m<ipython-input-3-6fe05a0e5ed9>\u001b[0m in \u001b[0;36m<cell line: 0>\u001b[0;34m()\u001b[0m\n\u001b[1;32m     44\u001b[0m \u001b[0;34m\u001b[0m\u001b[0m\n\u001b[1;32m     45\u001b[0m \u001b[0;32mif\u001b[0m \u001b[0m__name__\u001b[0m \u001b[0;34m==\u001b[0m \u001b[0;34m\"__main__\"\u001b[0m\u001b[0;34m:\u001b[0m\u001b[0;34m\u001b[0m\u001b[0;34m\u001b[0m\u001b[0m\n\u001b[0;32m---> 46\u001b[0;31m     \u001b[0mmain\u001b[0m\u001b[0;34m(\u001b[0m\u001b[0;34m)\u001b[0m\u001b[0;34m\u001b[0m\u001b[0;34m\u001b[0m\u001b[0m\n\u001b[0m",
            "\u001b[0;32m<ipython-input-3-6fe05a0e5ed9>\u001b[0m in \u001b[0;36mmain\u001b[0;34m()\u001b[0m\n\u001b[1;32m     30\u001b[0m \u001b[0;32mdef\u001b[0m \u001b[0mmain\u001b[0m\u001b[0;34m(\u001b[0m\u001b[0;34m)\u001b[0m\u001b[0;34m:\u001b[0m\u001b[0;34m\u001b[0m\u001b[0;34m\u001b[0m\u001b[0m\n\u001b[1;32m     31\u001b[0m     \u001b[0;32mtry\u001b[0m\u001b[0;34m:\u001b[0m\u001b[0;34m\u001b[0m\u001b[0;34m\u001b[0m\u001b[0m\n\u001b[0;32m---> 32\u001b[0;31m         \u001b[0mnum_disks\u001b[0m \u001b[0;34m=\u001b[0m \u001b[0mint\u001b[0m\u001b[0;34m(\u001b[0m\u001b[0minput\u001b[0m\u001b[0;34m(\u001b[0m\u001b[0;34m\"Enter the number of disks: \"\u001b[0m\u001b[0;34m)\u001b[0m\u001b[0;34m)\u001b[0m\u001b[0;34m\u001b[0m\u001b[0;34m\u001b[0m\u001b[0m\n\u001b[0m\u001b[1;32m     33\u001b[0m         \u001b[0;32mif\u001b[0m \u001b[0mnum_disks\u001b[0m \u001b[0;34m<=\u001b[0m \u001b[0;36m0\u001b[0m\u001b[0;34m:\u001b[0m\u001b[0;34m\u001b[0m\u001b[0;34m\u001b[0m\u001b[0m\n\u001b[1;32m     34\u001b[0m             \u001b[0mprint\u001b[0m\u001b[0;34m(\u001b[0m\u001b[0;34m\"Please enter a positive number of disks.\"\u001b[0m\u001b[0;34m)\u001b[0m\u001b[0;34m\u001b[0m\u001b[0;34m\u001b[0m\u001b[0m\n",
            "\u001b[0;32m/usr/local/lib/python3.11/dist-packages/ipykernel/kernelbase.py\u001b[0m in \u001b[0;36mraw_input\u001b[0;34m(self, prompt)\u001b[0m\n\u001b[1;32m    849\u001b[0m                 \u001b[0;34m\"raw_input was called, but this frontend does not support input requests.\"\u001b[0m\u001b[0;34m\u001b[0m\u001b[0;34m\u001b[0m\u001b[0m\n\u001b[1;32m    850\u001b[0m             )\n\u001b[0;32m--> 851\u001b[0;31m         return self._input_request(str(prompt),\n\u001b[0m\u001b[1;32m    852\u001b[0m             \u001b[0mself\u001b[0m\u001b[0;34m.\u001b[0m\u001b[0m_parent_ident\u001b[0m\u001b[0;34m,\u001b[0m\u001b[0;34m\u001b[0m\u001b[0;34m\u001b[0m\u001b[0m\n\u001b[1;32m    853\u001b[0m             \u001b[0mself\u001b[0m\u001b[0;34m.\u001b[0m\u001b[0m_parent_header\u001b[0m\u001b[0;34m,\u001b[0m\u001b[0;34m\u001b[0m\u001b[0;34m\u001b[0m\u001b[0m\n",
            "\u001b[0;32m/usr/local/lib/python3.11/dist-packages/ipykernel/kernelbase.py\u001b[0m in \u001b[0;36m_input_request\u001b[0;34m(self, prompt, ident, parent, password)\u001b[0m\n\u001b[1;32m    893\u001b[0m             \u001b[0;32mexcept\u001b[0m \u001b[0mKeyboardInterrupt\u001b[0m\u001b[0;34m:\u001b[0m\u001b[0;34m\u001b[0m\u001b[0;34m\u001b[0m\u001b[0m\n\u001b[1;32m    894\u001b[0m                 \u001b[0;31m# re-raise KeyboardInterrupt, to truncate traceback\u001b[0m\u001b[0;34m\u001b[0m\u001b[0;34m\u001b[0m\u001b[0m\n\u001b[0;32m--> 895\u001b[0;31m                 \u001b[0;32mraise\u001b[0m \u001b[0mKeyboardInterrupt\u001b[0m\u001b[0;34m(\u001b[0m\u001b[0;34m\"Interrupted by user\"\u001b[0m\u001b[0;34m)\u001b[0m \u001b[0;32mfrom\u001b[0m \u001b[0;32mNone\u001b[0m\u001b[0;34m\u001b[0m\u001b[0;34m\u001b[0m\u001b[0m\n\u001b[0m\u001b[1;32m    896\u001b[0m             \u001b[0;32mexcept\u001b[0m \u001b[0mException\u001b[0m \u001b[0;32mas\u001b[0m \u001b[0me\u001b[0m\u001b[0;34m:\u001b[0m\u001b[0;34m\u001b[0m\u001b[0;34m\u001b[0m\u001b[0m\n\u001b[1;32m    897\u001b[0m                 \u001b[0mself\u001b[0m\u001b[0;34m.\u001b[0m\u001b[0mlog\u001b[0m\u001b[0;34m.\u001b[0m\u001b[0mwarning\u001b[0m\u001b[0;34m(\u001b[0m\u001b[0;34m\"Invalid Message:\"\u001b[0m\u001b[0;34m,\u001b[0m \u001b[0mexc_info\u001b[0m\u001b[0;34m=\u001b[0m\u001b[0;32mTrue\u001b[0m\u001b[0;34m)\u001b[0m\u001b[0;34m\u001b[0m\u001b[0;34m\u001b[0m\u001b[0m\n",
            "\u001b[0;31mKeyboardInterrupt\u001b[0m: Interrupted by user"
          ]
        }
      ]
    },
    {
      "cell_type": "code",
      "source": [
        "def tower_of_hanoi(n, source, target, auxiliary):\n",
        "    if n == 1:\n",
        "        print(f\"Move disk 1 from {source} to {target}\")\n",
        "        return\n",
        "    tower_of_hanoi(n - 1, source, auxiliary, target)\n",
        "    print(f\"Move disk {n} from {source} to {target}\")\n",
        "    tower_of_hanoi(n - 1, auxiliary, target, source)\n",
        "\n",
        "def main():\n",
        "    n = int(input(\"Enter the number of disks: \"))\n",
        "    if n <= 0:\n",
        "        print(\"Please enter a positive number of disks.\")\n",
        "        return\n",
        "    tower_of_hanoi(n, 'A', 'C', 'B')\n",
        "\n",
        "if __name__ == \"__main__\":\n",
        "    main()\n"
      ],
      "metadata": {
        "colab": {
          "base_uri": "https://localhost:8080/"
        },
        "id": "51SSA2MQ6yDP",
        "outputId": "312353d5-8483-462d-c3a3-ce1615ff84eb"
      },
      "execution_count": 4,
      "outputs": [
        {
          "output_type": "stream",
          "name": "stdout",
          "text": [
            "Enter the number of disks: 2\n",
            "Move disk 1 from A to B\n",
            "Move disk 2 from A to C\n",
            "Move disk 1 from B to C\n"
          ]
        }
      ]
    }
  ]
}