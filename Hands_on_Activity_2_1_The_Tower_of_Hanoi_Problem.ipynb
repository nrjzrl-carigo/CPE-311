{
  "nbformat": 4,
  "nbformat_minor": 0,
  "metadata": {
    "colab": {
      "provenance": [],
      "authorship_tag": "ABX9TyP3aFiRErnrXHMJK1/ok//E",
      "include_colab_link": true
    },
    "kernelspec": {
      "name": "python3",
      "display_name": "Python 3"
    },
    "language_info": {
      "name": "python"
    }
  },
  "cells": [
    {
      "cell_type": "markdown",
      "metadata": {
        "id": "view-in-github",
        "colab_type": "text"
      },
      "source": [
        "<a href=\"https://colab.research.google.com/github/nrjzrl-carigo/CPE-311/blob/main/Hands_on_Activity_2_1_The_Tower_of_Hanoi_Problem.ipynb\" target=\"_parent\"><img src=\"https://colab.research.google.com/assets/colab-badge.svg\" alt=\"Open In Colab\"/></a>"
      ]
    },
    {
      "cell_type": "code",
      "source": [
        "def tower_of_hanoi(n, source, target, auxiliary):\n",
        "    if n == 1:\n",
        "        print(f\"Move disk 1 from {source} to {target}\")\n",
        "        return\n",
        "    tower_of_hanoi(n - 1, source, auxiliary, target)\n",
        "    print(f\"Move disk {n} from {source} to {target}\")\n",
        "    tower_of_hanoi(n - 1, auxiliary, target, source)\n",
        "\n",
        "def main():\n",
        "    n = int(input(\"Enter the number of disks: \"))\n",
        "    if n <= 0:\n",
        "        print(\"Please enter a positive number of disks.\")\n",
        "        return\n",
        "    tower_of_hanoi(n, 'A', 'C', 'B')\n",
        "\n",
        "if __name__ == \"__main__\":\n",
        "    main()\n"
      ],
      "metadata": {
        "colab": {
          "base_uri": "https://localhost:8080/"
        },
        "id": "On72I6cw12yQ",
        "outputId": "360f6266-74fd-424d-e870-9457ab3cc797"
      },
      "execution_count": 6,
      "outputs": [
        {
          "output_type": "stream",
          "name": "stdout",
          "text": [
            "Enter the number of disks: 3\n",
            "Move disk 1 from A to C\n",
            "Move disk 2 from A to B\n",
            "Move disk 1 from C to B\n",
            "Move disk 3 from A to C\n",
            "Move disk 1 from B to A\n",
            "Move disk 2 from B to C\n",
            "Move disk 1 from A to C\n"
          ]
        }
      ]
    }
  ]
}